{
 "cells": [
  {
   "cell_type": "markdown",
   "metadata": {},
   "source": [
    "# Unsupervised Learning on Pokemon Stats"
   ]
  },
  {
   "cell_type": "markdown",
   "metadata": {},
   "source": [
    "This is a simple notebook that takes in the poke_stat combinations data that was generated\n",
    "from the web scrapper. I decided that I wanted to do unsupervised learning because I am \n",
    "not as familiar with this type of learning. In hindsight, this probably was not the best choice because of my given data. "
   ]
  },
  {
   "cell_type": "code",
   "execution_count": 181,
   "metadata": {
    "collapsed": false
   },
   "outputs": [],
   "source": [
    "import pandas\n",
    "from sklearn import metrics \n",
    "from sklearn import cross_validation as cv\n",
    "from sklearn.cluster import KMeans\n",
    "from sklearn.preprocessing import normalize\n",
    "from sklearn import grid_search\n",
    "from matplotlib import pyplot\n",
    "import numpy as np"
   ]
  },
  {
   "cell_type": "code",
   "execution_count": 182,
   "metadata": {
    "collapsed": false
   },
   "outputs": [
    {
     "name": "stdout",
     "output_type": "stream",
     "text": [
      "           Name  Ph Sweeper  Ph Tank  Sp Sweeper  Sp Tank  Wall\n",
      "0     Bulbasaur          94      122         159      203   130\n",
      "1       Ivysaur         110        3           2      180   125\n",
      "2      Venusaur          98      200         160      180   263\n",
      "3      Venusaur         140      223         165        4   202\n",
      "4    Charmander         162      132         323      110   117\n",
      "5    Charmeleon           3      160         125      122     5\n",
      "6     Charizard         242      184         144      241   145\n",
      "7     Charizard          95        6           6      230   162\n",
      "8     Charizard         181      215         194      204   274\n",
      "9      Squirtle         209      182         241        7   259\n",
      "10    Wartortle         230      173         271      114    91\n",
      "11    Blastoise           6      123          93      143     8\n",
      "12    Blastoise         274      161         121      284   145\n",
      "13     Caterpie         113        9           9      213   183\n",
      "14      Metapod         219      250         190       75   314\n",
      "15   Butterfree         163       65         223       11    65\n",
      "16       Weedle         181      130         100       50    50\n",
      "17       Kakuna          10      160          55       95    12\n",
      "18     Beedrill          40       85         115       90   170\n",
      "19     Beedrill          75       14          13       60    65\n",
      "20       Pidgey         190       50          40      165   120\n",
      "21    Pidgeotto          70      130          75       15   120\n",
      "22      Pidgeot          60      185         185       95   295\n",
      "23      Pidgeot          15       91         160       85    16\n",
      "24      Rattata         125      131         101      168    70\n",
      "25     Raticate         190       18          17      171   115\n",
      "26      Spearow         115      140         100      201   228\n",
      "27       Fearow         121      160         155       19   256\n",
      "28        Ekans         181      100         243       60   128\n",
      "29        Arbok          18      147          97      141    20\n",
      "..          ...         ...      ...         ...      ...   ...\n",
      "770     Sylveon         270      150          94       94   201\n",
      "771    Hawlucha          99      100         150      583   109\n",
      "772     Dedenne         185      191         146      155   124\n",
      "773     Carbink         582      189         139      180   584\n",
      "774       Goomy         125      135         174      160   205\n",
      "775     Sliggoo         130      586         585      155   110\n",
      "776      Goodra         251      130          90      178   220\n",
      "777      Klefki         115      135         170      588   178\n",
      "778    Phantump         195      140         175       85   135\n",
      "779   Trevenant         587       80         100      240   589\n",
      "780   Pumpkaboo         135       70         155      169   165\n",
      "781   Pumpkaboo         120      591         590      115   100\n",
      "782   Pumpkaboo         280      165         110       80   264\n",
      "783   Pumpkaboo          70       90         155      593   105\n",
      "784   Gourgeist         115      275         190      190   120\n",
      "785   Gourgeist         592      105         145      155   594\n",
      "786   Gourgeist         150      112         140      150    85\n",
      "787   Gourgeist         130      596         595      205    97\n",
      "788    Bergmite         290      157         107       60   190\n",
      "789     Avalugg         122      141         137      598    34\n",
      "790      Noibat         185      321         221      170   114\n",
      "791     Noivern         597       75          74      125   599\n",
      "792     Xerneas         110      130          85      240   105\n",
      "793     Yveltal         225      601         600      160   175\n",
      "794     Zygarde         170      155         155      115   260\n",
      "795     Diancie         120       95         215      603   105\n",
      "796     Diancie         190      205         115      145   125\n",
      "797       Hoopa         602      155         115      195   604\n",
      "798       Hoopa          85       85         165      165   185\n",
      "799   Volcanion         155      606         605      165   110\n",
      "\n",
      "[800 rows x 6 columns]\n"
     ]
    }
   ],
   "source": [
    "data = pandas.read_json(\"pokemon_stat.json\")\n",
    "print(data)"
   ]
  },
  {
   "cell_type": "markdown",
   "metadata": {},
   "source": [
    "I then removed the name column because I did not see the \n",
    "immediate need for it."
   ]
  },
  {
   "cell_type": "code",
   "execution_count": 183,
   "metadata": {
    "collapsed": false
   },
   "outputs": [
    {
     "name": "stdout",
     "output_type": "stream",
     "text": [
      "     Ph Sweeper  Ph Tank  Sp Sweeper  Sp Tank  Wall\n",
      "0            94      122         159      203   130\n",
      "1           110        3           2      180   125\n",
      "2            98      200         160      180   263\n",
      "3           140      223         165        4   202\n",
      "4           162      132         323      110   117\n",
      "5             3      160         125      122     5\n",
      "6           242      184         144      241   145\n",
      "7            95        6           6      230   162\n",
      "8           181      215         194      204   274\n",
      "9           209      182         241        7   259\n",
      "10          230      173         271      114    91\n",
      "11            6      123          93      143     8\n",
      "12          274      161         121      284   145\n",
      "13          113        9           9      213   183\n",
      "14          219      250         190       75   314\n",
      "15          163       65         223       11    65\n",
      "16          181      130         100       50    50\n",
      "17           10      160          55       95    12\n",
      "18           40       85         115       90   170\n",
      "19           75       14          13       60    65\n",
      "20          190       50          40      165   120\n",
      "21           70      130          75       15   120\n",
      "22           60      185         185       95   295\n",
      "23           15       91         160       85    16\n",
      "24          125      131         101      168    70\n",
      "25          190       18          17      171   115\n",
      "26          115      140         100      201   228\n",
      "27          121      160         155       19   256\n",
      "28          181      100         243       60   128\n",
      "29           18      147          97      141    20\n",
      "..          ...      ...         ...      ...   ...\n",
      "770         270      150          94       94   201\n",
      "771          99      100         150      583   109\n",
      "772         185      191         146      155   124\n",
      "773         582      189         139      180   584\n",
      "774         125      135         174      160   205\n",
      "775         130      586         585      155   110\n",
      "776         251      130          90      178   220\n",
      "777         115      135         170      588   178\n",
      "778         195      140         175       85   135\n",
      "779         587       80         100      240   589\n",
      "780         135       70         155      169   165\n",
      "781         120      591         590      115   100\n",
      "782         280      165         110       80   264\n",
      "783          70       90         155      593   105\n",
      "784         115      275         190      190   120\n",
      "785         592      105         145      155   594\n",
      "786         150      112         140      150    85\n",
      "787         130      596         595      205    97\n",
      "788         290      157         107       60   190\n",
      "789         122      141         137      598    34\n",
      "790         185      321         221      170   114\n",
      "791         597       75          74      125   599\n",
      "792         110      130          85      240   105\n",
      "793         225      601         600      160   175\n",
      "794         170      155         155      115   260\n",
      "795         120       95         215      603   105\n",
      "796         190      205         115      145   125\n",
      "797         602      155         115      195   604\n",
      "798          85       85         165      165   185\n",
      "799         155      606         605      165   110\n",
      "\n",
      "[800 rows x 5 columns]\n"
     ]
    }
   ],
   "source": [
    "data = data.drop(\"Name\",1)\n",
    "#data = normalize(data, norm=\"l2\")\n",
    "# I tried normalizing the data but it gave me all zeroes...\n",
    "print(data)"
   ]
  },
  {
   "cell_type": "code",
   "execution_count": 184,
   "metadata": {
    "collapsed": false
   },
   "outputs": [],
   "source": [
    "(train_data, test_data) = cv.train_test_split(data, test_size=0.2)"
   ]
  },
  {
   "cell_type": "markdown",
   "metadata": {},
   "source": [
    "I then decided to use KMeans clustering algorithm. I have no clue why I did, but heck. There is no harm in experimentation. Here is the mathematical formula for the KMeans.\n",
    "<img src=\"formula.png\">"
   ]
  },
  {
   "cell_type": "markdown",
   "metadata": {},
   "source": [
    "# Learning"
   ]
  },
  {
   "cell_type": "code",
   "execution_count": 185,
   "metadata": {
    "collapsed": false
   },
   "outputs": [
    {
     "name": "stdout",
     "output_type": "stream",
     "text": [
      "-11304991.9596\n"
     ]
    }
   ],
   "source": [
    "k = 5\n",
    "cluster = KMeans(n_clusters=k)\n",
    "cluster = cluster.fit(train_data)\n",
    "pred = cluster.predict(test_data)\n",
    "score = cluster.score(train_data, test_data)\n",
    "print(score)"
   ]
  },
  {
   "cell_type": "markdown",
   "metadata": {},
   "source": [
    "The orginal score that I got was <b>-11475438.2946</b>. I was very confused on why this was the case so I looked more closely into the algorithm. There was a very good explanation that I found on <a href =\"http://stackoverflow.com/questions/32370543/understanding-score-returned-by-scikit-learn-kmeans\">stackoverflow</a> regarding this phenomena. Basically, if there is a lot of variety (as in disperse) in the data then there is a high likelihood for a big distance. This can also be attributed to the amount of centroids in the cluster (I used five at first); futerhmore, if there are a lot of data points that are not close to the clusters, then there is a high likelihood that the sum of all the distances will be large. This lead me to do a grid search to find a better parameter number."
   ]
  },
  {
   "cell_type": "code",
   "execution_count": 186,
   "metadata": {
    "collapsed": false
   },
   "outputs": [
    {
     "name": "stdout",
     "output_type": "stream",
     "text": [
      "35\n",
      "-3661071.31874\n"
     ]
    }
   ],
   "source": [
    "param = {'n_clusters':[7,9,11,13,15,17,19,21,23,25,27,29,31,33,35,37]}\n",
    "new_cluster = grid_search.GridSearchCV(KMeans(), param)\n",
    "new_cluster.fit(train_data)\n",
    "pred = new_cluster.predict(test_data)\n",
    "new_score = new_cluster.score(train_data, test_data)\n",
    "print(new_cluster.best_estimator_.n_clusters)\n",
    "print(new_score)"
   ]
  },
  {
   "cell_type": "markdown",
   "metadata": {},
   "source": [
    "# Conclusion"
   ]
  },
  {
   "cell_type": "markdown",
   "metadata": {},
   "source": [
    "So the distance did decrease dramatically but it still returns a big distance. If anyone has more advice on how I could tackle this problem (using unsupervised learning) that would be much appreciated. I am still very new to machine learning and I am really excited to learn more! Thanks! "
   ]
  }
 ],
 "metadata": {
  "kernelspec": {
   "display_name": "Python 2",
   "language": "python",
   "name": "python2"
  },
  "language_info": {
   "codemirror_mode": {
    "name": "ipython",
    "version": 2
   },
   "file_extension": ".py",
   "mimetype": "text/x-python",
   "name": "python",
   "nbconvert_exporter": "python",
   "pygments_lexer": "ipython2",
   "version": "2.7.11"
  }
 },
 "nbformat": 4,
 "nbformat_minor": 0
}
